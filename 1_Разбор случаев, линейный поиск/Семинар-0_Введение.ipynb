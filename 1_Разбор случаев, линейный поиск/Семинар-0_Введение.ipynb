{
 "cells": [
  {
   "cell_type": "markdown",
   "source": [
    "Тренировки 2.0 по алгоритмам от Яндекса. Интенсив по алгоритмам. Введение."
   ],
   "metadata": {
    "collapsed": false,
    "pycharm": {
     "name": "#%% md\n"
    }
   }
  },
  {
   "cell_type": "markdown",
   "source": [
    "Первоисточник: https://www.youtube.com/watch?v=KXZhSizvig4"
   ],
   "metadata": {
    "collapsed": false,
    "pycharm": {
     "name": "#%% md\n"
    }
   }
  },
  {
   "cell_type": "markdown",
   "source": [
    "Лектор - Михаил Густокашин"
   ],
   "metadata": {
    "collapsed": false,
    "pycharm": {
     "name": "#%% md\n"
    }
   }
  },
  {
   "cell_type": "markdown",
   "source": [
    "Все лекции с Тренировок 1.0. К каждой паре лекций - домашнее задание."
   ],
   "metadata": {
    "collapsed": false,
    "pycharm": {
     "name": "#%% md\n"
    }
   }
  },
  {
   "cell_type": "markdown",
   "source": [
    "Тестирующая система - Яндекс контест."
   ],
   "metadata": {
    "collapsed": false,
    "pycharm": {
     "name": "#%% md\n"
    }
   }
  },
  {
   "cell_type": "markdown",
   "source": [
    " Разбор задачи Яндекс. Тренировки по алгоритмам 2.0, занятие 5 (А)"
   ],
   "metadata": {
    "collapsed": false,
    "pycharm": {
     "name": "#%% md\n"
    }
   }
  },
  {
   "cell_type": "markdown",
   "source": [
    "С. Лучшие друзья девушек - это фуллерены."
   ],
   "metadata": {
    "collapsed": false,
    "pycharm": {
     "name": "#%% md\n"
    }
   }
  },
  {
   "cell_type": "markdown",
   "source": [
    "Развитие химической науки привело к тому, что высшие фуллерены (сложные молекулы углерода в виде шарика или продолговатой трубки) стали недорогими в производстве. Благодаяр своим уникальным оптическим свойствам они нашли свое место в ювелирной промышленности. Ювелирный дом \"Кёрл, Крото и Смолли\" выпустил уникальную коллекцию украшений из фуллеренов. Украшение продается в виде набора трубок-фуллеренов различной длины, из которых можно составить украшение самостоятельно. Норма Джин очень любит сложные углеродные соединения и купила себе набор фуллеренов для составления украшений. Ее фирменный стиль состоит в том, чтобы носить украшения , составленные ровно из трех трубок фуллерена, причем в результате должен получаться тупоугольный треугольник. Норма Джин - объект постоянной охоты папарацци, поэтому не может позволить себе дважды появиться на людях с одним и тем же украшением. Помогите Норме Джин узнать, сколько вечеров она сможет посетить с имеющимся у нее набором фуллереновых трубок. Фуллереновые трубки одинаковой длины считаются различными. Треугольники считаются различными, если они отличаются хотябы одной трубкой. Треугольники, состящие из одних и тех же трубок, считаются одинаковыми независимо от порядка трубок."
   ],
   "metadata": {
    "collapsed": false,
    "pycharm": {
     "name": "#%% md\n"
    }
   }
  },
  {
   "cell_type": "markdown",
   "source": [
    "> **Формат ввода**\n",
    "> Первая строка входного файла содержит одно число N (1<=N<=5000) - количество фуллереновых трубок в наборе Нормы Джин.\n",
    "> Вторая строка содержит N упорядоченных по возрастанию целых чисел Li (1<=Li<=10**9).\n",
    ">\n",
    "> **Формат вывода**\n",
    "> Выведите одно целое число - количество вечеров, на которые сможет сходить Норма Джин (сколько тупоугольных треугольнков можно составить)."
   ],
   "metadata": {
    "collapsed": false,
    "pycharm": {
     "name": "#%% md\n"
    }
   }
  },
  {
   "cell_type": "code",
   "execution_count": 1,
   "outputs": [
    {
     "name": "stdout",
     "output_type": "stream",
     "text": [
      "3\n"
     ]
    }
   ],
   "source": [
    "# тест\n",
    "# 4\n",
    "# 2 2 3 4\n",
    "\n",
    "# ответ 3\n",
    "\n",
    "# решение за О(N**3):\n",
    "\n",
    "def slow(n, tubes):\n",
    "    ans = 0\n",
    "    # перебираем не стороны, а индексы\n",
    "    for i in range(n):\n",
    "        for j in range(i + 1, n):\n",
    "            for k in range(j + 1, n):\n",
    "                # длины сторон\n",
    "                a, b, c = tubes[i], tubes[j], tubes[k]\n",
    "                # первое условие - две меньшие стороны в сумме больше, чем большая сторона\n",
    "                # второе условие, по условию тупоугольные треугольники, значит равно не должно быть\n",
    "                if a + b > c and c**2 > a**2 + b**2:\n",
    "                    ans += 1\n",
    "    return ans\n",
    "\n",
    "n = int(input())\n",
    "tubes = list(map(int, input().split()))\n",
    "print(slow(n, tubes))"
   ],
   "metadata": {
    "collapsed": false,
    "pycharm": {
     "name": "#%%\n"
    }
   }
  },
  {
   "cell_type": "markdown",
   "source": [
    "Нужно придумать решение за O(N**2). Решение с двумя указателями."
   ],
   "metadata": {
    "collapsed": false,
    "pycharm": {
     "name": "#%% md\n"
    }
   }
  },
  {
   "cell_type": "code",
   "execution_count": 3,
   "outputs": [
    {
     "name": "stdout",
     "output_type": "stream",
     "text": [
      "3\n"
     ]
    }
   ],
   "source": [
    "# решение дало ошибку на 4 тесте\n",
    "\n",
    "def fast(n, tubes):\n",
    "    ans = 0\n",
    "    for i in range(n):\n",
    "        l = i + 2\n",
    "        r = i + 2\n",
    "        for j in range(i + 1, n):\n",
    "            # когда пользуемся while нужно проверять, чтобы не выйти за пределы списка\n",
    "            while l < n and tubes[i]**2 + tubes[j]**2 > tubes[l]**2:\n",
    "                l += 1\n",
    "            while r < n and tubes[i] + tubes[j] > tubes[r]:\n",
    "                r += 1\n",
    "            ans += r - l\n",
    "    return ans\n",
    "\n",
    "n = int(input())\n",
    "tubes = list(map(int, input().split()))\n",
    "print(fast(n, tubes))"
   ],
   "metadata": {
    "collapsed": false,
    "pycharm": {
     "name": "#%%\n"
    }
   }
  },
  {
   "cell_type": "markdown",
   "source": [
    "Стресс-тестирование"
   ],
   "metadata": {
    "collapsed": false,
    "pycharm": {
     "name": "#%% md\n"
    }
   }
  },
  {
   "cell_type": "code",
   "execution_count": 4,
   "outputs": [
    {
     "name": "stdout",
     "output_type": "stream",
     "text": [
      "1 3 4 7\n",
      "0 0\n",
      "1 2 4 5\n",
      "1 1\n",
      "1 2 5 10\n",
      "0 0\n",
      "1 3 3 4\n",
      "0 0\n",
      "5 6 7 9\n",
      "2 2\n",
      "5 6 7 9\n",
      "2 2\n",
      "2 5 9 10\n",
      "1 1\n",
      "1 3 6 10\n",
      "0 0\n",
      "1 5 6 8\n",
      "1 1\n",
      "4 6 6 8\n",
      "2 2\n",
      "2 5 9 10\n",
      "1 1\n",
      "1 2 5 10\n",
      "0 0\n",
      "3 6 9 9\n",
      "0 0\n",
      "1 2 2 6\n",
      "0 0\n",
      "3 5 6 10\n",
      "2 2\n",
      "3 3 4 9\n",
      "0 0\n",
      "1 2 2 10\n",
      "0 0\n",
      "1 9 9 10\n",
      "0 0\n",
      "2 3 6 8\n",
      "1 1\n",
      "4 10 10 10\n",
      "0 0\n",
      "1 3 5 7\n",
      "1 1\n",
      "1 1 3 7\n",
      "0 0\n",
      "3 4 5 7\n",
      "2 3\n"
     ]
    }
   ],
   "source": [
    "from random import randint\n",
    "\n",
    "def fast(n, tubes):\n",
    "    ans = 0\n",
    "    for i in range(n):\n",
    "        l = i + 2\n",
    "        r = i + 2\n",
    "        for j in range(i + 1, n):\n",
    "            # когда пользуемся while нужно проверять, чтобы не выйти за пределы списка\n",
    "            while l < n and tubes[i]**2 + tubes[j]**2 > tubes[l]**2:\n",
    "                l += 1\n",
    "            while r < n and tubes[i] + tubes[j] > tubes[r]:\n",
    "                r += 1\n",
    "            ans += r - l\n",
    "    return ans\n",
    "\n",
    "while True:\n",
    "    n = 4\n",
    "    tubes = []\n",
    "    for i in range(n):\n",
    "        tubes.append(randint(1, 10))\n",
    "    tubes.sort()\n",
    "    print(*tubes)\n",
    "    ansSlow = slow(n, tubes)\n",
    "    ansFast = fast(n, tubes)\n",
    "    print(ansSlow, ansFast)\n",
    "    if ansSlow != ansFast:\n",
    "        break\n",
    "\n",
    "# n = int(input())\n",
    "# tubes = list(map(int, input().split()))\n",
    "# print(fast(n, tubes))"
   ],
   "metadata": {
    "collapsed": false,
    "pycharm": {
     "name": "#%%\n"
    }
   }
  },
  {
   "cell_type": "code",
   "execution_count": 5,
   "outputs": [
    {
     "name": "stdout",
     "output_type": "stream",
     "text": [
      "3 4 5 10\n",
      "3 5 10 10\n"
     ]
    },
    {
     "ename": "IndexError",
     "evalue": "list index out of range",
     "output_type": "error",
     "traceback": [
      "\u001B[0;31m---------------------------------------------------------------------------\u001B[0m",
      "\u001B[0;31mIndexError\u001B[0m                                Traceback (most recent call last)",
      "Input \u001B[0;32mIn [5]\u001B[0m, in \u001B[0;36m<cell line: 36>\u001B[0;34m()\u001B[0m\n\u001B[1;32m     34\u001B[0m n \u001B[38;5;241m=\u001B[39m \u001B[38;5;28mint\u001B[39m(\u001B[38;5;28minput\u001B[39m())\n\u001B[1;32m     35\u001B[0m tubes \u001B[38;5;241m=\u001B[39m \u001B[38;5;28mlist\u001B[39m(\u001B[38;5;28mmap\u001B[39m(\u001B[38;5;28mint\u001B[39m, \u001B[38;5;28minput\u001B[39m()\u001B[38;5;241m.\u001B[39msplit()))\n\u001B[0;32m---> 36\u001B[0m \u001B[38;5;28mprint\u001B[39m(\u001B[43mfast\u001B[49m\u001B[43m(\u001B[49m\u001B[43mn\u001B[49m\u001B[43m,\u001B[49m\u001B[43m \u001B[49m\u001B[43mtubes\u001B[49m\u001B[43m)\u001B[49m)\n",
      "Input \u001B[0;32mIn [5]\u001B[0m, in \u001B[0;36mfast\u001B[0;34m(n, tubes)\u001B[0m\n\u001B[1;32m     16\u001B[0m         ans \u001B[38;5;241m+\u001B[39m\u001B[38;5;241m=\u001B[39m r \u001B[38;5;241m-\u001B[39m l\n\u001B[1;32m     17\u001B[0m         \u001B[38;5;28;01mif\u001B[39;00m ans \u001B[38;5;241m>\u001B[39m \u001B[38;5;241m0\u001B[39m:\n\u001B[0;32m---> 18\u001B[0m             \u001B[38;5;28mprint\u001B[39m(tubes[i], tubes[j], \u001B[43mtubes\u001B[49m\u001B[43m[\u001B[49m\u001B[43ml\u001B[49m\u001B[43m]\u001B[49m, tubes[r])\n\u001B[1;32m     19\u001B[0m \u001B[38;5;28;01mreturn\u001B[39;00m ans\n",
      "\u001B[0;31mIndexError\u001B[0m: list index out of range"
     ]
    }
   ],
   "source": [
    "# запускаем 3 4 5 10\n",
    "\n",
    "# from random import randint\n",
    "\n",
    "def fast(n, tubes):\n",
    "    ans = 0\n",
    "    for i in range(n):\n",
    "        l = i + 2\n",
    "        r = i + 2\n",
    "        for j in range(i + 1, n):\n",
    "            # когда пользуемся while нужно проверять, чтобы не выйти за пределы списка\n",
    "            while l < n and tubes[i]**2 + tubes[j]**2 > tubes[l]**2:\n",
    "                l += 1\n",
    "            while r < n and tubes[i] + tubes[j] > tubes[r]:\n",
    "                r += 1\n",
    "            ans += r - l\n",
    "            if ans > 0:\n",
    "                print(tubes[i], tubes[j], tubes[l], tubes[r])\n",
    "    return ans\n",
    "\n",
    "# while True:\n",
    "#     n = 4\n",
    "#     tubes = []\n",
    "#     for i in range(n):\n",
    "#         tubes.append(randint(1, 10))\n",
    "#     tubes.sort()\n",
    "#     print(*tubes)\n",
    "#     ansSlow = slow(n, tubes)\n",
    "#     ansFast = fast(n, tubes)\n",
    "#     print(ansSlow, ansFast)\n",
    "#     if ansSlow != ansFast:\n",
    "#         break\n",
    "\n",
    "n = int(input())\n",
    "tubes = list(map(int, input().split()))\n",
    "print(fast(n, tubes))"
   ],
   "metadata": {
    "collapsed": false,
    "pycharm": {
     "name": "#%%\n"
    }
   }
  },
  {
   "cell_type": "code",
   "execution_count": 6,
   "outputs": [
    {
     "name": "stdout",
     "output_type": "stream",
     "text": [
      "0\n"
     ]
    }
   ],
   "source": [
    "# запускаем 3 4 5 10\n",
    "\n",
    "# from random import randint\n",
    "\n",
    "def fast(n, tubes):\n",
    "    ans = 0\n",
    "    for i in range(n):\n",
    "        l = i + 2\n",
    "        r = i + 2\n",
    "        for j in range(i + 1, n):\n",
    "            # когда пользуемся while нужно проверять, чтобы не выйти за пределы списка\n",
    "            while l < n and tubes[i]**2 + tubes[j]**2 >= tubes[l]**2: # добавили =\n",
    "                l += 1\n",
    "            while r < n and tubes[i] + tubes[j] > tubes[r]:\n",
    "                r += 1\n",
    "            ans += r - l\n",
    "            # if ans > 0:\n",
    "            #     print(tubes[i], tubes[j], tubes[l], tubes[r])\n",
    "    return ans\n",
    "\n",
    "# while True:\n",
    "#     n = 4\n",
    "#     tubes = []\n",
    "#     for i in range(n):\n",
    "#         tubes.append(randint(1, 10))\n",
    "#     tubes.sort()\n",
    "#     print(*tubes)\n",
    "#     ansSlow = slow(n, tubes)\n",
    "#     ansFast = fast(n, tubes)\n",
    "#     print(ansSlow, ansFast)\n",
    "#     if ansSlow != ansFast:\n",
    "#         break\n",
    "\n",
    "n = int(input())\n",
    "tubes = list(map(int, input().split()))\n",
    "print(fast(n, tubes))"
   ],
   "metadata": {
    "collapsed": false,
    "pycharm": {
     "name": "#%%\n"
    }
   }
  }
 ],
 "metadata": {
  "kernelspec": {
   "display_name": "Python 3",
   "language": "python",
   "name": "python3"
  },
  "language_info": {
   "codemirror_mode": {
    "name": "ipython",
    "version": 2
   },
   "file_extension": ".py",
   "mimetype": "text/x-python",
   "name": "python",
   "nbconvert_exporter": "python",
   "pygments_lexer": "ipython2",
   "version": "2.7.6"
  }
 },
 "nbformat": 4,
 "nbformat_minor": 0
}