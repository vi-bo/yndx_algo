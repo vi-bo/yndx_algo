{
 "cells": [
  {
   "cell_type": "markdown",
   "source": [
    "Тренировки 1.0 по алгоритмам от Яндекса. Лекция 2 \"Линейный поиск\""
   ],
   "metadata": {
    "collapsed": false,
    "pycharm": {
     "name": "#%% md\n"
    }
   }
  },
  {
   "cell_type": "markdown",
   "source": [
    "Первоисточник: https://www.youtube.com/watch?v=SKwB41FrGgU&list=PL6Wui14DvQPySdPv5NUqV3i8sDbHkCKC5&index=2"
   ],
   "metadata": {
    "collapsed": false,
    "pycharm": {
     "name": "#%% md\n"
    }
   }
  },
  {
   "cell_type": "markdown",
   "source": [
    "Лектор - Михаил Густокашин"
   ],
   "metadata": {
    "collapsed": false,
    "pycharm": {
     "name": "#%% md\n"
    }
   }
  },
  {
   "cell_type": "markdown",
   "source": [
    "### 01 Классические задачи линейного поиска"
   ],
   "metadata": {
    "collapsed": false,
    "pycharm": {
     "name": "#%% md\n"
    }
   }
  },
  {
   "cell_type": "markdown",
   "source": [
    "#### Задача #1"
   ],
   "metadata": {
    "collapsed": false,
    "pycharm": {
     "name": "#%% md\n"
    }
   }
  },
  {
   "cell_type": "markdown",
   "source": [
    "> Дана последовательность чисел длиной N.\n",
    ">\n",
    "> Найти первое (левое) вхождение (индекс) положительного числа Х в нее или вывести -1, если число Х не встречалось."
   ],
   "metadata": {
    "collapsed": false,
    "pycharm": {
     "name": "#%% md\n"
    }
   }
  },
  {
   "cell_type": "code",
   "execution_count": 1,
   "outputs": [
    {
     "data": {
      "text/plain": "1"
     },
     "execution_count": 1,
     "metadata": {},
     "output_type": "execute_result"
    }
   ],
   "source": [
    "seq = '1 2 1 3 2'\n",
    "x = 2\n",
    "seq = list(map(int, seq.split()))\n",
    "\n",
    "def findx(seq, x):\n",
    "    ans = -1\n",
    "    for i in range(len(seq)):\n",
    "        # чтобы не перезаписать индекс 1 на 4 нужно добавить ans == -1\n",
    "        if ans == -1 and seq[i] == x:\n",
    "            ans = i\n",
    "    return ans\n",
    "\n",
    "findx(seq, x)"
   ],
   "metadata": {
    "collapsed": false,
    "pycharm": {
     "name": "#%%\n"
    }
   }
  },
  {
   "cell_type": "markdown",
   "source": [
    "#### Задача #2"
   ],
   "metadata": {
    "collapsed": false,
    "pycharm": {
     "name": "#%% md\n"
    }
   }
  },
  {
   "cell_type": "markdown",
   "source": [
    "> Дана последовательность чисел длиной N.\n",
    ">\n",
    "> Найти последнее (правое) вхождение числа Х в нее или вывести -1, если число Х не встречалось."
   ],
   "metadata": {
    "collapsed": false,
    "pycharm": {
     "name": "#%% md\n"
    }
   }
  },
  {
   "cell_type": "markdown",
   "source": [
    "вариант решения - развернуть список [::-1]"
   ],
   "metadata": {
    "collapsed": false,
    "pycharm": {
     "name": "#%% md\n"
    }
   }
  },
  {
   "cell_type": "code",
   "execution_count": 8,
   "outputs": [
    {
     "data": {
      "text/plain": "4"
     },
     "execution_count": 8,
     "metadata": {},
     "output_type": "execute_result"
    }
   ],
   "source": [
    "seq = '1 2 1 3 2'\n",
    "x = 2\n",
    "seq = list(map(int, seq.split()))\n",
    "\n",
    "def findrightx(seq, x):\n",
    "    ans = -1\n",
    "    for i in range(len(seq)):\n",
    "        # теперь только одно условие\n",
    "        if seq[i] == x:\n",
    "            ans = i\n",
    "    return ans\n",
    "\n",
    "findrightx(seq, x)"
   ],
   "metadata": {
    "collapsed": false,
    "pycharm": {
     "name": "#%%\n"
    }
   }
  },
  {
   "cell_type": "markdown",
   "source": [
    "#### Задача #3"
   ],
   "metadata": {
    "collapsed": false,
    "pycharm": {
     "name": "#%% md\n"
    }
   }
  },
  {
   "cell_type": "markdown",
   "source": [
    "> Дана последовательность чисел длиной N (N>0).\n",
    ">\n",
    "> Найти максимальное число в последовательности.\n"
   ],
   "metadata": {
    "collapsed": false,
    "pycharm": {
     "name": "#%% md\n"
    }
   }
  },
  {
   "cell_type": "code",
   "execution_count": 9,
   "outputs": [
    {
     "data": {
      "text/plain": "3"
     },
     "execution_count": 9,
     "metadata": {},
     "output_type": "execute_result"
    }
   ],
   "source": [
    "# поиск по значению\n",
    "\n",
    "seq = '1 2 1 3 2 1'\n",
    "seq = list(map(int, seq.split()))\n",
    "\n",
    "def findmax(seq):\n",
    "    ans = seq[0]\n",
    "    #for i in range(len(seq)):\n",
    "    # экономим одно действие\n",
    "    for i in range(1, len(seq)):\n",
    "        if seq[i] > ans:\n",
    "            ans = seq[i]\n",
    "    return ans\n",
    "\n",
    "findmax(seq)"
   ],
   "metadata": {
    "collapsed": false,
    "pycharm": {
     "name": "#%%\n"
    }
   }
  },
  {
   "cell_type": "markdown",
   "source": [
    "**ВАЖНО! ЛЕКСИКОГРАФИЧЕСКИЙ ПОРЯДОК (алфавитный порядок с учетом больших и маленьких букв)**"
   ],
   "metadata": {
    "collapsed": false,
    "pycharm": {
     "name": "#%% md\n"
    }
   }
  },
  {
   "cell_type": "code",
   "execution_count": 10,
   "outputs": [
    {
     "data": {
      "text/plain": "3"
     },
     "execution_count": 10,
     "metadata": {},
     "output_type": "execute_result"
    }
   ],
   "source": [
    "# поиск по индексу (подход более универсальный, т.к. получаем и индекс и значение)\n",
    "\n",
    "seq = '1 2 1 3 2 1'\n",
    "seq = list(map(int, seq.split()))\n",
    "\n",
    "def findmax(seq):\n",
    "    ans = 0\n",
    "    for i in range(1, len(seq)):\n",
    "        if seq[i] > seq[ans]:\n",
    "            ans = i\n",
    "    return seq[ans]\n",
    "\n",
    "findmax(seq)"
   ],
   "metadata": {
    "collapsed": false,
    "pycharm": {
     "name": "#%%\n"
    }
   }
  },
  {
   "cell_type": "markdown",
   "source": [
    "#### Задача #4"
   ],
   "metadata": {
    "collapsed": false,
    "pycharm": {
     "name": "#%% md\n"
    }
   }
  },
  {
   "cell_type": "markdown",
   "source": [
    "> Дана последовательность чисел длиной N (N>1)\n",
    ">\n",
    "> Найти максимальное число в последовательности и второе по величине число (такое, которое будет максимальным, если вычеркнуть из последовательности одно максимальное число)"
   ],
   "metadata": {
    "collapsed": false,
    "pycharm": {
     "name": "#%% md\n"
    }
   }
  },
  {
   "cell_type": "markdown",
   "source": [
    "**ВАЖНО! ИНИЦИАЛИЗАЦИЯ НАЧАЛЬНЫХ ЗНАЧЕНИЙ**"
   ],
   "metadata": {
    "collapsed": false,
    "pycharm": {
     "name": "#%% md\n"
    }
   }
  },
  {
   "cell_type": "code",
   "execution_count": 13,
   "outputs": [
    {
     "data": {
      "text/plain": "(3, 2)"
     },
     "execution_count": 13,
     "metadata": {},
     "output_type": "execute_result"
    }
   ],
   "source": [
    "seq = '1 2 1 3 2 1'\n",
    "seq = list(map(int, seq.split()))\n",
    "\n",
    "def findmax2(seq):\n",
    "    max1 = max(seq[0], seq[1])\n",
    "    max2 = min(seq[0], seq[1])\n",
    "    #for i in range(len(seq)):\n",
    "    # если экономим каждое значение\n",
    "    for i in range(2, len(seq)):\n",
    "        if seq[i] > max1:\n",
    "            max2 = max1\n",
    "            max1 = seq[i]\n",
    "        elif seq[i] > max2:\n",
    "            max2 = seq[i]\n",
    "    return (max1, max2)\n",
    "\n",
    "findmax2(seq)"
   ],
   "metadata": {
    "collapsed": false,
    "pycharm": {
     "name": "#%%\n"
    }
   }
  },
  {
   "cell_type": "markdown",
   "source": [
    "#### Задача #5"
   ],
   "metadata": {
    "collapsed": false,
    "pycharm": {
     "name": "#%% md\n"
    }
   }
  },
  {
   "cell_type": "markdown",
   "source": [
    "> Дана последовательность чисел длиной N\n",
    ">\n",
    "> Найти минимальное четное число в последовательности или вывести -1, если такого не существует"
   ],
   "metadata": {
    "collapsed": false,
    "pycharm": {
     "name": "#%% md\n"
    }
   }
  },
  {
   "cell_type": "code",
   "execution_count": 12,
   "outputs": [
    {
     "data": {
      "text/plain": "2"
     },
     "execution_count": 12,
     "metadata": {},
     "output_type": "execute_result"
    }
   ],
   "source": [
    "seq = '1 4 8 1 3 2 1'\n",
    "seq = list(map(int, seq.split()))\n",
    "\n",
    "def findmineven(seq):\n",
    "    #ans = -1\n",
    "    # лучше уйти от конкрентых значений к bool\n",
    "    flag = False\n",
    "    for i in range(len(seq)):\n",
    "        # лучше не экономить скобки, и наверняка расставить приоритет\n",
    "        #if seq[i] %2 == 0 and (ans == -1 or seq[i] < ans):\n",
    "        if seq[i] %2 == 0 and (not flag or seq[i] < ans):\n",
    "            ans = seq[i]\n",
    "            flag = True\n",
    "    return ans\n",
    "\n",
    "findmineven(seq)"
   ],
   "metadata": {
    "collapsed": false,
    "pycharm": {
     "name": "#%%\n"
    }
   }
  },
  {
   "cell_type": "markdown",
   "source": [
    "### 02 Два прохода"
   ],
   "metadata": {
    "collapsed": false,
    "pycharm": {
     "name": "#%% md\n"
    }
   }
  },
  {
   "cell_type": "markdown",
   "source": [
    "#### Задача #6"
   ],
   "metadata": {
    "collapsed": false,
    "pycharm": {
     "name": "#%% md\n"
    }
   }
  },
  {
   "cell_type": "markdown",
   "source": [
    "> Дана последовательность слов\n",
    ">\n",
    "> Вывести все самые короткие слова через пробел"
   ],
   "metadata": {
    "collapsed": false,
    "pycharm": {
     "name": "#%% md\n"
    }
   }
  },
  {
   "cell_type": "code",
   "execution_count": 24,
   "outputs": [
    {
     "data": {
      "text/plain": "'deы wer вer rwe ввr выq ыpr '"
     },
     "execution_count": 24,
     "metadata": {},
     "output_type": "execute_result"
    }
   ],
   "source": [
    "words = ['deы', 'terter', 'erttr', 'wttrt', 'wer', 'вer', 'rwe', 'ввr', 'выq', 'ыpr', 'rerw']\n",
    "\n",
    "def shortwords(words):\n",
    "    minlen = len(words[0])\n",
    "    for word in words:\n",
    "        if len(word) < minlen:\n",
    "            #minlen = len(words)  # было в примере\n",
    "            minlen = len(word)\n",
    "    ans = '' # пустая срока\n",
    "    for word in words:\n",
    "        if len(word) == minlen:\n",
    "            # строка это медленно\n",
    "            ans += word + ' '\n",
    "    return ans\n",
    "\n",
    "shortwords(words)"
   ],
   "metadata": {
    "collapsed": false,
    "pycharm": {
     "name": "#%%\n"
    }
   }
  },
  {
   "cell_type": "code",
   "execution_count": 25,
   "outputs": [
    {
     "data": {
      "text/plain": "'deы wer вer rwe ввr выq ыpr'"
     },
     "execution_count": 25,
     "metadata": {},
     "output_type": "execute_result"
    }
   ],
   "source": [
    "words =  ['deы', 'terter', 'erttr', 'wttrt', 'wer', 'вer', 'rwe', 'ввr', 'выq', 'ыpr', 'rerw']\n",
    "\n",
    "def shortwords(words):\n",
    "    minlen = len(words[0])\n",
    "    for word in words:\n",
    "        if len(word) < minlen:\n",
    "            #minlen = len(words)  # было в примере\n",
    "            minlen = len(word)\n",
    "    ans = [] # теперь здесь список\n",
    "    for word in words:\n",
    "        if len(word) == minlen:\n",
    "            # строка это медленно, здесь список, добавление в список это O(1)\n",
    "            ans.append(word)\n",
    "    return ' '.join(ans)\n",
    "\n",
    "shortwords(words)"
   ],
   "metadata": {
    "collapsed": false,
    "pycharm": {
     "name": "#%%\n"
    }
   }
  },
  {
   "cell_type": "markdown",
   "source": [
    "#### Задача #7"
   ],
   "metadata": {
    "collapsed": false,
    "pycharm": {
     "name": "#%% md\n"
    }
   }
  },
  {
   "cell_type": "markdown",
   "source": [
    "> (задача со школьной олимпиады)\n",
    ">\n",
    "> Игра PitCraft происходит в двумерном мире, который состоит из блоков размером 1 на 1 метр. Остров игрока представляет собой набор столбцов различной высоты, состоящих из блоков камня и окруженный морем. Над островом прошел сильный дождь, который заполнил водой все низины, а не поместившаяся в них вода стекла в море, не увеличив его уровень.\n",
    ">\n",
    "> По ландшафту острова определите, сколько блоков воды осталось после дождя в низинах на острове"
   ],
   "metadata": {
    "collapsed": false,
    "pycharm": {
     "name": "#%% md\n"
    }
   }
  },
  {
   "cell_type": "code",
   "execution_count": 26,
   "outputs": [
    {
     "data": {
      "text/plain": "7"
     },
     "execution_count": 26,
     "metadata": {},
     "output_type": "execute_result"
    }
   ],
   "source": [
    "h = [3, 1, 4, 3, 5, 1, 1, 3, 1]\n",
    "\n",
    "def isleflood(h):\n",
    "    maxpos = 0\n",
    "    for i in range(len(h)):\n",
    "        if h[i] > h[maxpos]:\n",
    "            maxpos = i\n",
    "    ans = 0\n",
    "    nowm = 0\n",
    "    for i in range(maxpos):\n",
    "        if h[i] > nowm:\n",
    "            nowm = h[i]\n",
    "        ans += nowm - h[i]\n",
    "    nowm = 0\n",
    "    # проход справа налево\n",
    "    for i in range(len(h) - 1, maxpos, -1):\n",
    "        if h[i] > nowm:\n",
    "            nowm = h[i]\n",
    "        ans += nowm - h[i]\n",
    "    return ans\n",
    "\n",
    "isleflood(h)"
   ],
   "metadata": {
    "collapsed": false,
    "pycharm": {
     "name": "#%%\n"
    }
   }
  },
  {
   "cell_type": "markdown",
   "source": [
    "### 03 Задача с собеседования"
   ],
   "metadata": {
    "collapsed": false,
    "pycharm": {
     "name": "#%% md\n"
    }
   }
  },
  {
   "cell_type": "markdown",
   "source": [
    "#### Задача #8"
   ],
   "metadata": {
    "collapsed": false,
    "pycharm": {
     "name": "#%% md\n"
    }
   }
  },
  {
   "cell_type": "markdown",
   "source": [
    "> Дана строка (возможно, пустая0), состоящая из букв А-Z: AAAABBBCCXYZDDDDEEEFFFAAAAAABBBBBBBBBBBBBBBBBBBBBBBBBBBB\n",
    ">\n",
    "> Нужно написать функцию RLE, которая на выходе даст строку вида: A4B3C2XYZD4E3F3A6B28. И сгенерирует ошибку, если на вход пришла невалидная строка.\n",
    ">\n",
    "> Пояснения: Если символ встречается 1 раз, он остается без изменнний; если символ повторяется более 1 раза, к нему добавляется количество повторений."
   ],
   "metadata": {
    "collapsed": false,
    "pycharm": {
     "name": "#%% md\n"
    }
   }
  },
  {
   "cell_type": "markdown",
   "source": [
    "Упрощение задачи"
   ],
   "metadata": {
    "collapsed": false,
    "pycharm": {
     "name": "#%% md\n"
    }
   }
  },
  {
   "cell_type": "markdown",
   "source": [
    "> Дана строка (возможно, пустая0), состоящая из букв А-Z: AAAABBBCCXYZDDDDEEEFFFAAAAAABBBBBBBBBBBBBBBBBBBBBBBBBBBB\n",
    ">\n",
    "> Нужно написать функцию RLE, которая на выходе даст строку вида: ABCXYZDEFAB."
   ],
   "metadata": {
    "collapsed": false,
    "pycharm": {
     "name": "#%% md\n"
    }
   }
  },
  {
   "cell_type": "code",
   "execution_count": 28,
   "outputs": [
    {
     "data": {
      "text/plain": "'ABCXYZDEFAB'"
     },
     "execution_count": 28,
     "metadata": {},
     "output_type": "execute_result"
    }
   ],
   "source": [
    "s = 'AAAABBBCCXYZDDDDEEEFFFAAAAAABBBBBBBBBBBBBBBBBBBBBBBBBBBB'\n",
    "\n",
    "def easypeasy(s):\n",
    "    lastsym = s[0]\n",
    "    ans = []\n",
    "    for i in range(1, len(s)):\n",
    "        if s[i] != lastsym:\n",
    "            ans.append(lastsym)\n",
    "            lastsym = s[i]\n",
    "    ans.append(lastsym)\n",
    "    return ''.join(ans)\n",
    "\n",
    "easypeasy(s)"
   ],
   "metadata": {
    "collapsed": false,
    "pycharm": {
     "name": "#%%\n"
    }
   }
  },
  {
   "cell_type": "markdown",
   "source": [
    "Решение полной задачи"
   ],
   "metadata": {
    "collapsed": false,
    "pycharm": {
     "name": "#%% md\n"
    }
   }
  },
  {
   "cell_type": "code",
   "execution_count": 30,
   "outputs": [
    {
     "data": {
      "text/plain": "'A4B3C2XYZD4E3F3A6B28'"
     },
     "execution_count": 30,
     "metadata": {},
     "output_type": "execute_result"
    }
   ],
   "source": [
    "s = 'AAAABBBCCXYZDDDDEEEFFFAAAAAABBBBBBBBBBBBBBBBBBBBBBBBBBBB'\n",
    "\n",
    "def rle(s):\n",
    "    def pack(s, cnt):\n",
    "        if cnt > 1:\n",
    "            return s + str(cnt)\n",
    "        return s\n",
    "\n",
    "    lastsym = s[0]\n",
    "    lastpos = 0\n",
    "    ans = []\n",
    "    for i in range(len(s)):\n",
    "        if s[i] != lastsym:\n",
    "            ans.append(pack(lastsym, i - lastpos))\n",
    "            lastpos = i\n",
    "            lastsym = s[i]\n",
    "    ans.append(pack(s[lastpos], len(s) - lastpos))\n",
    "    return ''.join(ans)\n",
    "\n",
    "rle(s)"
   ],
   "metadata": {
    "collapsed": false,
    "pycharm": {
     "name": "#%%\n"
    }
   }
  }
 ],
 "metadata": {
  "kernelspec": {
   "display_name": "Python 3",
   "language": "python",
   "name": "python3"
  },
  "language_info": {
   "codemirror_mode": {
    "name": "ipython",
    "version": 2
   },
   "file_extension": ".py",
   "mimetype": "text/x-python",
   "name": "python",
   "nbconvert_exporter": "python",
   "pygments_lexer": "ipython2",
   "version": "2.7.6"
  }
 },
 "nbformat": 4,
 "nbformat_minor": 0
}