{
 "cells": [
  {
   "cell_type": "markdown",
   "source": [
    "Тренировки 1.0 по алгоритмам от Яндекса. Лекция 1 \"Сложность, тестирование, особые случаи\""
   ],
   "metadata": {
    "collapsed": false,
    "pycharm": {
     "name": "#%% md\n"
    }
   }
  },
  {
   "cell_type": "markdown",
   "source": [
    "Первоисточник: https://www.youtube.com/watch?v=QLhqYNsPIVo&list=PL6Wui14DvQPySdPv5NUqV3i8sDbHkCKC5&index=1"
   ],
   "metadata": {
    "collapsed": false,
    "pycharm": {
     "name": "#%% md\n"
    }
   }
  },
  {
   "cell_type": "markdown",
   "source": [
    "Лектор - Михаил Густокашин"
   ],
   "metadata": {
    "collapsed": false,
    "pycharm": {
     "name": "#%% md\n"
    }
   }
  },
  {
   "cell_type": "markdown",
   "source": [
    "### 01 Сложность"
   ],
   "metadata": {
    "collapsed": false,
    "pycharm": {
     "name": "#%% md\n"
    }
   }
  },
  {
   "cell_type": "markdown",
   "source": [
    "#### Задача поиска самого часто встречающегося символа в строке"
   ],
   "metadata": {
    "collapsed": false,
    "pycharm": {
     "name": "#%% md\n"
    }
   }
  },
  {
   "cell_type": "markdown",
   "source": [
    "##### Решение 0"
   ],
   "metadata": {
    "collapsed": false,
    "pycharm": {
     "name": "#%% md\n"
    }
   }
  },
  {
   "cell_type": "code",
   "execution_count": 10,
   "outputs": [
    {
     "name": "stdout",
     "output_type": "stream",
     "text": [
      "a\n",
      "CPU times: user 58 µs, sys: 47 µs, total: 105 µs\n",
      "Wall time: 94.9 µs\n"
     ]
    }
   ],
   "source": [
    "%%time\n",
    "s = 'ababa'\n",
    "#s = input()\n",
    "print(max(map(lambda x: (s.count(x), x), s))[1])"
   ],
   "metadata": {
    "collapsed": false,
    "pycharm": {
     "name": "#%%\n"
    }
   }
  },
  {
   "cell_type": "markdown",
   "source": [
    "##### Решение 1 O(N**2)"
   ],
   "metadata": {
    "collapsed": false,
    "pycharm": {
     "name": "#%% md\n"
    }
   }
  },
  {
   "cell_type": "markdown",
   "source": [
    "Проход по строке для каждого символа в строкe."
   ],
   "metadata": {
    "collapsed": false,
    "pycharm": {
     "name": "#%% md\n"
    }
   }
  },
  {
   "cell_type": "code",
   "execution_count": 11,
   "outputs": [
    {
     "name": "stdout",
     "output_type": "stream",
     "text": [
      "a\n",
      "CPU times: user 110 µs, sys: 86 µs, total: 196 µs\n",
      "Wall time: 186 µs\n"
     ]
    }
   ],
   "source": [
    "%%time\n",
    "s = 'ababa'\n",
    "#s = input()\n",
    "ans = ''\n",
    "anscnt = 0\n",
    "for i in range(len(s)):\n",
    "    nowcnt = 0\n",
    "    for j in range(len(s)):\n",
    "        if s[i] == s[j]:\n",
    "            nowcnt += 1\n",
    "        if nowcnt > anscnt:\n",
    "            ans = s[i]\n",
    "            anscnt = nowcnt\n",
    "print(ans)"
   ],
   "metadata": {
    "collapsed": false,
    "pycharm": {
     "name": "#%%\n"
    }
   }
  },
  {
   "cell_type": "markdown",
   "source": [
    "##### Решение 2 O(N*K)"
   ],
   "metadata": {
    "collapsed": false,
    "pycharm": {
     "name": "#%% md\n"
    }
   }
  },
  {
   "cell_type": "markdown",
   "source": [
    "Проход по строке для каждого символа в множесте."
   ],
   "metadata": {
    "collapsed": false,
    "pycharm": {
     "name": "#%% md\n"
    }
   }
  },
  {
   "cell_type": "code",
   "execution_count": 12,
   "outputs": [
    {
     "name": "stdout",
     "output_type": "stream",
     "text": [
      "a\n",
      "CPU times: user 72 µs, sys: 55 µs, total: 127 µs\n",
      "Wall time: 116 µs\n"
     ]
    }
   ],
   "source": [
    "%%time\n",
    "s = 'ababa'\n",
    "#s = input()\n",
    "ans = ''\n",
    "anscnt = 0\n",
    "for now in set(s):\n",
    "    nowcnt = 0\n",
    "    for j in range(len(s)):\n",
    "        if now == s[j]:\n",
    "            nowcnt += 1\n",
    "        if nowcnt > anscnt:\n",
    "            ans = now\n",
    "            anscnt = nowcnt\n",
    "print(ans)"
   ],
   "metadata": {
    "collapsed": false,
    "pycharm": {
     "name": "#%%\n"
    }
   }
  },
  {
   "cell_type": "markdown",
   "source": [
    "##### Решение 3 O(N+K) или O(N)"
   ],
   "metadata": {
    "collapsed": false,
    "pycharm": {
     "name": "#%% md\n"
    }
   }
  },
  {
   "cell_type": "markdown",
   "source": [
    "Использование словаря."
   ],
   "metadata": {
    "collapsed": false,
    "pycharm": {
     "name": "#%% md\n"
    }
   }
  },
  {
   "cell_type": "code",
   "execution_count": 20,
   "outputs": [
    {
     "name": "stdout",
     "output_type": "stream",
     "text": [
      "a\n",
      "CPU times: user 33 µs, sys: 21 µs, total: 54 µs\n",
      "Wall time: 56.3 µs\n"
     ]
    }
   ],
   "source": [
    "%%time\n",
    "s = 'ababa'\n",
    "#s = input()\n",
    "ans = ''\n",
    "anscnt = 0\n",
    "dct = {}\n",
    "for now in s:\n",
    "    if now not in dct:\n",
    "        dct[now] = 0\n",
    "    dct[now] += 1\n",
    "for key in dct:\n",
    "    if dct[key] > anscnt:\n",
    "        anscnt = dct[key]\n",
    "        ans = key\n",
    "print(ans)"
   ],
   "metadata": {
    "collapsed": false,
    "pycharm": {
     "name": "#%%\n"
    }
   }
  },
  {
   "cell_type": "markdown",
   "source": [
    "### 02 Особые случаи"
   ],
   "metadata": {
    "collapsed": false,
    "pycharm": {
     "name": "#%% md\n"
    }
   }
  },
  {
   "cell_type": "markdown",
   "source": [
    "#### Задача. Сумма последовательности"
   ],
   "metadata": {
    "collapsed": false,
    "pycharm": {
     "name": "#%% md\n"
    }
   }
  },
  {
   "cell_type": "code",
   "execution_count": 6,
   "outputs": [
    {
     "name": "stdout",
     "output_type": "stream",
     "text": [
      "0\n"
     ]
    }
   ],
   "source": [
    "seq = list(map(int, input().split()))\n",
    "if len(seq) == 0:\n",
    "    print(0)\n",
    "else:\n",
    "    seqsum = seq[0]\n",
    "    for i in range(1, len(seq)):\n",
    "        seqsum += seq[i]\n",
    "    print(seqsum)"
   ],
   "metadata": {
    "collapsed": false,
    "pycharm": {
     "name": "#%%\n"
    }
   }
  },
  {
   "cell_type": "markdown",
   "source": [
    "Без избыточной перестраховки. Короче, меньше вероятность сделать ошибку."
   ],
   "metadata": {
    "collapsed": false,
    "pycharm": {
     "name": "#%% md\n"
    }
   }
  },
  {
   "cell_type": "code",
   "execution_count": 7,
   "outputs": [
    {
     "name": "stdout",
     "output_type": "stream",
     "text": [
      "2\n"
     ]
    }
   ],
   "source": [
    "seq = list(map(int, input().split()))\n",
    "seqsum = 0\n",
    "for i in range(len(seq)):\n",
    "    seqsum += seq[i]\n",
    "print(seqsum)"
   ],
   "metadata": {
    "collapsed": false,
    "pycharm": {
     "name": "#%%\n"
    }
   }
  },
  {
   "cell_type": "markdown",
   "source": [
    "#### Задача. Максимум последовательности."
   ],
   "metadata": {
    "collapsed": false,
    "pycharm": {
     "name": "#%% md\n"
    }
   }
  },
  {
   "cell_type": "code",
   "execution_count": 14,
   "outputs": [
    {
     "name": "stdout",
     "output_type": "stream",
     "text": [
      "0\n"
     ]
    }
   ],
   "source": [
    "seq = list(map(int, input().split()))\n",
    "seqmax = 0                                 # здесь при -1 -2 мы будем сравнивать с 0\n",
    "for i in range(len(seq)):\n",
    "    if seq[i] > seqmax:\n",
    "        seqmax = seq[i]\n",
    "print(seqmax)"
   ],
   "metadata": {
    "collapsed": false,
    "pycharm": {
     "name": "#%%\n"
    }
   }
  },
  {
   "cell_type": "markdown",
   "source": [
    "Обрабатываем последовательность из отрицательных чисел и пустой ввод"
   ],
   "metadata": {
    "collapsed": false,
    "pycharm": {
     "name": "#%% md\n"
    }
   }
  },
  {
   "cell_type": "code",
   "execution_count": 13,
   "outputs": [
    {
     "name": "stdout",
     "output_type": "stream",
     "text": [
      "-inf\n"
     ]
    }
   ],
   "source": [
    "seq = list(map(int, input().split()))\n",
    "if len(seq) == 0:\n",
    "    print('-inf')\n",
    "else:\n",
    "    seqmax = seq[0]                          # здесь при -1 -2 мы будем сравнивать с -1\n",
    "    for i in range(1, len(seq)):\n",
    "        if seq[i] > seqmax:\n",
    "            seqmax = seq[i]\n",
    "    print(seqmax)"
   ],
   "metadata": {
    "collapsed": false,
    "pycharm": {
     "name": "#%%\n"
    }
   }
  },
  {
   "cell_type": "markdown",
   "source": [
    "### 03 Тестирование"
   ],
   "metadata": {
    "collapsed": false,
    "pycharm": {
     "name": "#%% md\n"
    }
   }
  },
  {
   "cell_type": "markdown",
   "source": [
    "* Тесты из условия (если есть)\n",
    "* Общие случаи\n",
    "* Особые случаи:\n",
    "   * все числа отрицательные\n",
    "   * пустая последовательность\n",
    "    * краевые эффекты - ответ на первом или последнем месте\n",
    "    * один элемент"
   ],
   "metadata": {
    "collapsed": false,
    "pycharm": {
     "name": "#%% md\n"
    }
   }
  },
  {
   "cell_type": "markdown",
   "source": [
    "##### Задача поиска корней уравнения"
   ],
   "metadata": {
    "collapsed": false,
    "pycharm": {
     "name": "#%% md\n"
    }
   }
  },
  {
   "cell_type": "markdown",
   "source": [
    "##### Решение 1 (ошибка - нет скобок)"
   ],
   "metadata": {
    "collapsed": false,
    "pycharm": {
     "name": "#%% md\n"
    }
   }
  },
  {
   "cell_type": "code",
   "execution_count": null,
   "outputs": [],
   "source": [
    "# ввод 1 -2 0, верный ответ 0 2\n",
    "from math import sqrt\n",
    "a, b, c = list(map(int, input().split()))\n",
    "d = b ** 2 - 4 * a * c\n",
    "x1 = -b - sqrt(d) / 2 * a\n",
    "x2 = -b + sqrt(d) / 2 * a\n",
    "print(x1, x2)"
   ],
   "metadata": {
    "collapsed": false,
    "pycharm": {
     "name": "#%%\n"
    }
   }
  },
  {
   "cell_type": "markdown",
   "source": [
    "##### Решение 2 (не учтен нулевой дискреминант)"
   ],
   "metadata": {
    "collapsed": false,
    "pycharm": {
     "name": "#%% md\n"
    }
   }
  },
  {
   "cell_type": "code",
   "execution_count": 21,
   "outputs": [
    {
     "name": "stdout",
     "output_type": "stream",
     "text": [
      "-1.0 -1.0\n"
     ]
    }
   ],
   "source": [
    "# ввод 1 2 1, верный ответ -1\n",
    "from math import sqrt\n",
    "a, b, c = list(map(int, input().split()))\n",
    "d = b ** 2 - 4 * a * c\n",
    "x1 = (-b - sqrt(d)) / (2 * a)\n",
    "x2 = (-b + sqrt(d)) / (2 * a)\n",
    "print(x1, x2)"
   ],
   "metadata": {
    "collapsed": false,
    "pycharm": {
     "name": "#%%\n"
    }
   }
  },
  {
   "cell_type": "markdown",
   "source": [
    "##### Решение 3 (не учтен случай отсутствия решения)"
   ],
   "metadata": {
    "collapsed": false,
    "pycharm": {
     "name": "#%% md\n"
    }
   }
  },
  {
   "cell_type": "code",
   "execution_count": 25,
   "outputs": [
    {
     "name": "stdout",
     "output_type": "stream",
     "text": [
      "-1.0\n"
     ]
    }
   ],
   "source": [
    "# ввод 1 1 1, верный ответ\n",
    "from math import sqrt\n",
    "a, b, c = list(map(int, input().split()))\n",
    "d = b ** 2 - 4 * a * c\n",
    "if d == 0:\n",
    "    x1 = -b / (2 * a)\n",
    "    print(x1)\n",
    "else:\n",
    "    x1 = (-b - sqrt(d)) / (2 * a)\n",
    "    x2 = (-b + sqrt(d)) / (2 * a)\n",
    "    print(x1, x2)"
   ],
   "metadata": {
    "collapsed": false,
    "pycharm": {
     "name": "#%%\n"
    }
   }
  },
  {
   "cell_type": "markdown",
   "source": [
    "##### Решение 4 (не учтена возможность деления на ноль)"
   ],
   "metadata": {
    "collapsed": false,
    "pycharm": {
     "name": "#%% md\n"
    }
   }
  },
  {
   "cell_type": "code",
   "execution_count": 26,
   "outputs": [
    {
     "ename": "ZeroDivisionError",
     "evalue": "float division by zero",
     "output_type": "error",
     "traceback": [
      "\u001B[0;31m---------------------------------------------------------------------------\u001B[0m",
      "\u001B[0;31mZeroDivisionError\u001B[0m                         Traceback (most recent call last)",
      "Input \u001B[0;32mIn [26]\u001B[0m, in \u001B[0;36m<cell line: 5>\u001B[0;34m()\u001B[0m\n\u001B[1;32m      7\u001B[0m     \u001B[38;5;28mprint\u001B[39m(x1)\n\u001B[1;32m      8\u001B[0m \u001B[38;5;28;01melif\u001B[39;00m d \u001B[38;5;241m>\u001B[39m \u001B[38;5;241m0\u001B[39m:\n\u001B[0;32m----> 9\u001B[0m     x1 \u001B[38;5;241m=\u001B[39m \u001B[43m(\u001B[49m\u001B[38;5;241;43m-\u001B[39;49m\u001B[43mb\u001B[49m\u001B[43m \u001B[49m\u001B[38;5;241;43m-\u001B[39;49m\u001B[43m \u001B[49m\u001B[43msqrt\u001B[49m\u001B[43m(\u001B[49m\u001B[43md\u001B[49m\u001B[43m)\u001B[49m\u001B[43m)\u001B[49m\u001B[43m \u001B[49m\u001B[38;5;241;43m/\u001B[39;49m\u001B[43m \u001B[49m\u001B[43m(\u001B[49m\u001B[38;5;241;43m2\u001B[39;49m\u001B[43m \u001B[49m\u001B[38;5;241;43m*\u001B[39;49m\u001B[43m \u001B[49m\u001B[43ma\u001B[49m\u001B[43m)\u001B[49m\n\u001B[1;32m     10\u001B[0m     x2 \u001B[38;5;241m=\u001B[39m (\u001B[38;5;241m-\u001B[39mb \u001B[38;5;241m+\u001B[39m sqrt(d)) \u001B[38;5;241m/\u001B[39m (\u001B[38;5;241m2\u001B[39m \u001B[38;5;241m*\u001B[39m a)\n\u001B[1;32m     11\u001B[0m     \u001B[38;5;28mprint\u001B[39m(x1, x2)\n",
      "\u001B[0;31mZeroDivisionError\u001B[0m: float division by zero"
     ]
    }
   ],
   "source": [
    "# ввод 0 1 1, верный ответ -1\n",
    "from math import sqrt\n",
    "a, b, c = list(map(int, input().split()))\n",
    "d = b ** 2 - 4 * a * c\n",
    "if d == 0:\n",
    "    x1 = -b / (2 * a)\n",
    "    print(x1)\n",
    "elif d > 0:\n",
    "    x1 = (-b - sqrt(d)) / (2 * a)\n",
    "    x2 = (-b + sqrt(d)) / (2 * a)\n",
    "    print(x1, x2)"
   ],
   "metadata": {
    "collapsed": false,
    "pycharm": {
     "name": "#%%\n"
    }
   }
  },
  {
   "cell_type": "markdown",
   "source": [
    "##### Решение 5 (не учтена возможность деления на ноль-2)"
   ],
   "metadata": {
    "collapsed": false,
    "pycharm": {
     "name": "#%% md\n"
    }
   }
  },
  {
   "cell_type": "code",
   "execution_count": 27,
   "outputs": [
    {
     "ename": "ZeroDivisionError",
     "evalue": "division by zero",
     "output_type": "error",
     "traceback": [
      "\u001B[0;31m---------------------------------------------------------------------------\u001B[0m",
      "\u001B[0;31mZeroDivisionError\u001B[0m                         Traceback (most recent call last)",
      "Input \u001B[0;32mIn [27]\u001B[0m, in \u001B[0;36m<cell line: 5>\u001B[0;34m()\u001B[0m\n\u001B[1;32m      3\u001B[0m a, b, c \u001B[38;5;241m=\u001B[39m \u001B[38;5;28mlist\u001B[39m(\u001B[38;5;28mmap\u001B[39m(\u001B[38;5;28mint\u001B[39m, \u001B[38;5;28minput\u001B[39m()\u001B[38;5;241m.\u001B[39msplit()))\n\u001B[1;32m      5\u001B[0m \u001B[38;5;28;01mif\u001B[39;00m a \u001B[38;5;241m==\u001B[39m \u001B[38;5;241m0\u001B[39m:\n\u001B[0;32m----> 6\u001B[0m     \u001B[38;5;28mprint\u001B[39m(\u001B[38;5;241;43m-\u001B[39;49m\u001B[43mc\u001B[49m\u001B[43m \u001B[49m\u001B[38;5;241;43m/\u001B[39;49m\u001B[43m \u001B[49m\u001B[43mb\u001B[49m)\n\u001B[1;32m      7\u001B[0m \u001B[38;5;28;01melse\u001B[39;00m:\n\u001B[1;32m      8\u001B[0m     d \u001B[38;5;241m=\u001B[39m b \u001B[38;5;241m*\u001B[39m\u001B[38;5;241m*\u001B[39m \u001B[38;5;241m2\u001B[39m \u001B[38;5;241m-\u001B[39m \u001B[38;5;241m4\u001B[39m \u001B[38;5;241m*\u001B[39m a \u001B[38;5;241m*\u001B[39m c\n",
      "\u001B[0;31mZeroDivisionError\u001B[0m: division by zero"
     ]
    }
   ],
   "source": [
    "# ввод 0 0 1, верный ответ\n",
    "from math import sqrt\n",
    "a, b, c = list(map(int, input().split()))\n",
    "\n",
    "if a == 0:\n",
    "    print(-c / b)\n",
    "else:\n",
    "    d = b ** 2 - 4 * a * c\n",
    "    if d == 0:\n",
    "        x1 = -b / (2 * a)\n",
    "        print(x1)\n",
    "    elif d > 0:\n",
    "        x1 = (-b - sqrt(d)) / (2 * a)\n",
    "        x2 = (-b + sqrt(d)) / (2 * a)\n",
    "        print(x1, x2)"
   ],
   "metadata": {
    "collapsed": false,
    "pycharm": {
     "name": "#%%\n"
    }
   }
  },
  {
   "cell_type": "markdown",
   "source": [
    "##### Решение 6"
   ],
   "metadata": {
    "collapsed": false,
    "pycharm": {
     "name": "#%% md\n"
    }
   }
  },
  {
   "cell_type": "code",
   "execution_count": null,
   "outputs": [],
   "source": [
    "# ввод 0 0 0, верный ответ: бесконечное количество решений\n",
    "\n",
    "from math import sqrt\n",
    "a, b, c = list(map(int, input().split()))\n",
    "\n",
    "if a == 0:\n",
    "    if b != 0:\n",
    "        print(-c / b)\n",
    "else:\n",
    "    d = b ** 2 - 4 * a * c\n",
    "    if d == 0:\n",
    "        x1 = -b / (2 * a)\n",
    "        print(x1)\n",
    "    elif d > 0:\n",
    "        x1 = (-b - sqrt(d)) / (2 * a)\n",
    "        x2 = (-b + sqrt(d)) / (2 * a)\n",
    "        print(x1, x2)"
   ],
   "metadata": {
    "collapsed": false,
    "pycharm": {
     "name": "#%%\n"
    }
   }
  },
  {
   "cell_type": "markdown",
   "source": [
    "##### Решение 7 (не учтены отрицательные числа)"
   ],
   "metadata": {
    "collapsed": false,
    "pycharm": {
     "name": "#%% md\n"
    }
   }
  },
  {
   "cell_type": "code",
   "execution_count": 31,
   "outputs": [
    {
     "name": "stdout",
     "output_type": "stream",
     "text": [
      "1.0 -0.2\n"
     ]
    }
   ],
   "source": [
    "# ввод -5 4 1, верный ответ: -0.2 1\n",
    "\n",
    "from math import sqrt\n",
    "a, b, c = list(map(int, input().split()))\n",
    "\n",
    "if a == 0:\n",
    "    if b != 0:\n",
    "        print(-c / b)\n",
    "    if b == 0 and c == 0:\n",
    "        print('Infinite number of solution')\n",
    "else:\n",
    "    d = b ** 2 - 4 * a * c\n",
    "    if d == 0:\n",
    "        x1 = -b / (2 * a)\n",
    "        print(x1)\n",
    "    elif d > 0:\n",
    "        x1 = (-b - sqrt(d)) / (2 * a)\n",
    "        x2 = (-b + sqrt(d)) / (2 * a)\n",
    "        print(x1, x2)"
   ],
   "metadata": {
    "collapsed": false,
    "pycharm": {
     "name": "#%%\n"
    }
   }
  },
  {
   "cell_type": "markdown",
   "source": [
    "##### Решение 8"
   ],
   "metadata": {
    "collapsed": false,
    "pycharm": {
     "name": "#%% md\n"
    }
   }
  },
  {
   "cell_type": "code",
   "execution_count": 32,
   "outputs": [
    {
     "ename": "ValueError",
     "evalue": "not enough values to unpack (expected 3, got 0)",
     "output_type": "error",
     "traceback": [
      "\u001B[0;31m---------------------------------------------------------------------------\u001B[0m",
      "\u001B[0;31mValueError\u001B[0m                                Traceback (most recent call last)",
      "Input \u001B[0;32mIn [32]\u001B[0m, in \u001B[0;36m<cell line: 2>\u001B[0;34m()\u001B[0m\n\u001B[1;32m      1\u001B[0m \u001B[38;5;28;01mfrom\u001B[39;00m \u001B[38;5;21;01mmath\u001B[39;00m \u001B[38;5;28;01mimport\u001B[39;00m sqrt\n\u001B[0;32m----> 2\u001B[0m a, b, c \u001B[38;5;241m=\u001B[39m \u001B[38;5;28mlist\u001B[39m(\u001B[38;5;28mmap\u001B[39m(\u001B[38;5;28mint\u001B[39m, \u001B[38;5;28minput\u001B[39m()\u001B[38;5;241m.\u001B[39msplit()))\n\u001B[1;32m      4\u001B[0m \u001B[38;5;28;01mif\u001B[39;00m a \u001B[38;5;241m==\u001B[39m \u001B[38;5;241m0\u001B[39m:\n\u001B[1;32m      5\u001B[0m     \u001B[38;5;28;01mif\u001B[39;00m b \u001B[38;5;241m!=\u001B[39m \u001B[38;5;241m0\u001B[39m:\n",
      "\u001B[0;31mValueError\u001B[0m: not enough values to unpack (expected 3, got 0)"
     ]
    }
   ],
   "source": [
    "from math import sqrt\n",
    "a, b, c = list(map(int, input().split()))\n",
    "\n",
    "if a == 0:\n",
    "    if b != 0:\n",
    "        print(-c / b)\n",
    "    if b == 0 and c == 0:\n",
    "        print('Infinite number of solution')\n",
    "else:\n",
    "    d = b ** 2 - 4 * a * c\n",
    "    print(sqrt(d))\n",
    "    if d == 0:\n",
    "        x1 = -b / (2 * a)\n",
    "        print(x1)\n",
    "    elif d > 0:\n",
    "        x1 = (-b - sqrt(d)) / (2 * a)\n",
    "        x2 = (-b + sqrt(d)) / (2 * a)\n",
    "        if x1 < x2:\n",
    "            print(x1, x2)\n",
    "        else:\n",
    "            print(x2, x1)"
   ],
   "metadata": {
    "collapsed": false,
    "pycharm": {
     "name": "#%%\n"
    }
   }
  }
 ],
 "metadata": {
  "kernelspec": {
   "display_name": "Python 3",
   "language": "python",
   "name": "python3"
  },
  "language_info": {
   "codemirror_mode": {
    "name": "ipython",
    "version": 2
   },
   "file_extension": ".py",
   "mimetype": "text/x-python",
   "name": "python",
   "nbconvert_exporter": "python",
   "pygments_lexer": "ipython2",
   "version": "2.7.6"
  }
 },
 "nbformat": 4,
 "nbformat_minor": 0
}